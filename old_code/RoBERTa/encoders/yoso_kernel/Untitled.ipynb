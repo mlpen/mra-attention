{
 "cells": [
  {
   "cell_type": "code",
   "execution_count": 1,
   "id": "developmental-first",
   "metadata": {},
   "outputs": [
    {
     "name": "stdout",
     "output_type": "stream",
     "text": [
      "Using /root/.cache/torch_extensions as PyTorch extensions root...\n",
      "Detected CUDA files, patching ldflags\n",
      "Emitting ninja build file /root/.cache/torch_extensions/fast_hadamard_transform_kernel/build.ninja...\n",
      "Building extension module fast_hadamard_transform_kernel...\n",
      "Allowing ninja to set a default number of workers... (overridable by setting the environment variable MAX_JOBS=N)\n",
      "Loading extension module fast_hadamard_transform_kernel...\n",
      "Using /root/.cache/torch_extensions as PyTorch extensions root...\n",
      "Detected CUDA files, patching ldflags\n",
      "Emitting ninja build file /root/.cache/torch_extensions/lsh_cumulation_kernel/build.ninja...\n",
      "Building extension module lsh_cumulation_kernel...\n",
      "Allowing ninja to set a default number of workers... (overridable by setting the environment variable MAX_JOBS=N)\n",
      "Loading extension module lsh_cumulation_kernel...\n",
      "Using /root/.cache/torch_extensions as PyTorch extensions root...\n",
      "Detected CUDA files, patching ldflags\n",
      "Emitting ninja build file /root/.cache/torch_extensions/count_sort_kernel/build.ninja...\n",
      "Building extension module count_sort_kernel...\n",
      "Allowing ninja to set a default number of workers... (overridable by setting the environment variable MAX_JOBS=N)\n",
      "Loading extension module count_sort_kernel...\n",
      "Using /root/.cache/torch_extensions as PyTorch extensions root...\n",
      "Detected CUDA files, patching ldflags\n",
      "Emitting ninja build file /root/.cache/torch_extensions/weighted_lsh_cumulation_kernel/build.ninja...\n",
      "Building extension module weighted_lsh_cumulation_kernel...\n",
      "Allowing ninja to set a default number of workers... (overridable by setting the environment variable MAX_JOBS=N)\n",
      "Loading extension module weighted_lsh_cumulation_kernel...\n"
     ]
    }
   ],
   "source": [
    "import torch\n",
    "import fast_hadamard_transform.kernel as fast_hadamard_transform\n",
    "import lsh_cumulation.kernel as lsh_cumulation\n",
    "import weighted_lsh_cumulation.count_sort.kernel as count_sort\n",
    "import weighted_lsh_cumulation.kernel as weighted_lsh_cumulation\n",
    "import time\n",
    "import math"
   ]
  },
  {
   "cell_type": "code",
   "execution_count": null,
   "id": "turned-thanks",
   "metadata": {},
   "outputs": [],
   "source": []
  },
  {
   "cell_type": "code",
   "execution_count": 3,
   "id": "nominated-folks",
   "metadata": {
    "scrolled": false
   },
   "outputs": [
    {
     "name": "stdout",
     "output_type": "stream",
     "text": [
      "18.3423\n",
      "36.3394\n",
      "72.9286\n"
     ]
    },
    {
     "ename": "RuntimeError",
     "evalue": "CUDA out of memory. Tried to allocate 6.00 GiB (GPU 0; 10.76 GiB total capacity; 3.85 GiB already allocated; 5.45 GiB free; 4.50 GiB reserved in total by PyTorch)",
     "output_type": "error",
     "traceback": [
      "\u001b[0;31m---------------------------------------------------------------------------\u001b[0m",
      "\u001b[0;31mRuntimeError\u001b[0m                              Traceback (most recent call last)",
      "\u001b[0;32m<ipython-input-3-e3de3e1a70d3>\u001b[0m in \u001b[0;36m<module>\u001b[0;34m\u001b[0m\n\u001b[1;32m     19\u001b[0m         \u001b[0mQ_hash\u001b[0m \u001b[0;34m=\u001b[0m \u001b[0mfast_hadamard_transform\u001b[0m\u001b[0;34m.\u001b[0m\u001b[0mfast_hash\u001b[0m\u001b[0;34m(\u001b[0m\u001b[0mmask\u001b[0m\u001b[0;34m,\u001b[0m \u001b[0mQ\u001b[0m\u001b[0;34m,\u001b[0m \u001b[0mDmat\u001b[0m\u001b[0;34m,\u001b[0m \u001b[0mH\u001b[0m\u001b[0;34m,\u001b[0m \u001b[0mhashcode_len\u001b[0m\u001b[0;34m)\u001b[0m\u001b[0;34m\u001b[0m\u001b[0;34m\u001b[0m\u001b[0m\n\u001b[1;32m     20\u001b[0m         \u001b[0mK_hash\u001b[0m \u001b[0;34m=\u001b[0m \u001b[0mfast_hadamard_transform\u001b[0m\u001b[0;34m.\u001b[0m\u001b[0mfast_hash\u001b[0m\u001b[0;34m(\u001b[0m\u001b[0mmask\u001b[0m\u001b[0;34m,\u001b[0m \u001b[0mK\u001b[0m\u001b[0;34m,\u001b[0m \u001b[0mDmat\u001b[0m\u001b[0;34m,\u001b[0m \u001b[0mH\u001b[0m\u001b[0;34m,\u001b[0m \u001b[0mhashcode_len\u001b[0m\u001b[0;34m)\u001b[0m\u001b[0;34m\u001b[0m\u001b[0;34m\u001b[0m\u001b[0m\n\u001b[0;32m---> 21\u001b[0;31m         \u001b[0mhashtable\u001b[0m \u001b[0;34m=\u001b[0m \u001b[0mlsh_cumulation\u001b[0m\u001b[0;34m.\u001b[0m\u001b[0mlsh_cumulation\u001b[0m\u001b[0;34m(\u001b[0m\u001b[0mmask\u001b[0m\u001b[0;34m,\u001b[0m \u001b[0mK_hash\u001b[0m\u001b[0;34m,\u001b[0m \u001b[0mV\u001b[0m\u001b[0;34m,\u001b[0m \u001b[0mhashcode_len\u001b[0m\u001b[0;34m)\u001b[0m\u001b[0;34m\u001b[0m\u001b[0;34m\u001b[0m\u001b[0m\n\u001b[0m\u001b[1;32m     22\u001b[0m         \u001b[0mresult\u001b[0m \u001b[0;34m=\u001b[0m \u001b[0mlsh_cumulation\u001b[0m\u001b[0;34m.\u001b[0m\u001b[0mlsh_query\u001b[0m\u001b[0;34m(\u001b[0m\u001b[0mmask\u001b[0m\u001b[0;34m,\u001b[0m \u001b[0mQ_hash\u001b[0m\u001b[0;34m,\u001b[0m \u001b[0mhashtable\u001b[0m\u001b[0;34m)\u001b[0m\u001b[0;34m\u001b[0m\u001b[0;34m\u001b[0m\u001b[0m\n\u001b[1;32m     23\u001b[0m     \u001b[0mtorch\u001b[0m\u001b[0;34m.\u001b[0m\u001b[0mcuda\u001b[0m\u001b[0;34m.\u001b[0m\u001b[0msynchronize\u001b[0m\u001b[0;34m(\u001b[0m\u001b[0;34m)\u001b[0m\u001b[0;34m\u001b[0m\u001b[0;34m\u001b[0m\u001b[0m\n",
      "\u001b[0;32m/workspace/Transformers/encoders/backbones/efficient_attentions/yoso/yoso_v2/lsh_cumulation/kernel.py\u001b[0m in \u001b[0;36mlsh_cumulation\u001b[0;34m(key_mask, key_hashcode, value, hashcode_len)\u001b[0m\n\u001b[1;32m     25\u001b[0m \u001b[0;32mdef\u001b[0m \u001b[0mlsh_cumulation\u001b[0m\u001b[0;34m(\u001b[0m\u001b[0mkey_mask\u001b[0m\u001b[0;34m,\u001b[0m \u001b[0mkey_hashcode\u001b[0m\u001b[0;34m,\u001b[0m \u001b[0mvalue\u001b[0m\u001b[0;34m,\u001b[0m \u001b[0mhashcode_len\u001b[0m\u001b[0;34m)\u001b[0m\u001b[0;34m:\u001b[0m\u001b[0;34m\u001b[0m\u001b[0;34m\u001b[0m\u001b[0m\n\u001b[1;32m     26\u001b[0m     \u001b[0mlsh_cumulation_input_check\u001b[0m\u001b[0;34m(\u001b[0m\u001b[0mkey_mask\u001b[0m\u001b[0;34m,\u001b[0m \u001b[0mkey_hashcode\u001b[0m\u001b[0;34m,\u001b[0m \u001b[0mvalue\u001b[0m\u001b[0;34m,\u001b[0m \u001b[0mhashcode_len\u001b[0m\u001b[0;34m)\u001b[0m\u001b[0;34m\u001b[0m\u001b[0;34m\u001b[0m\u001b[0m\n\u001b[0;32m---> 27\u001b[0;31m     \u001b[0;32mreturn\u001b[0m \u001b[0mlsh_cumulation_kernel\u001b[0m\u001b[0;34m.\u001b[0m\u001b[0mlsh_cumulation\u001b[0m\u001b[0;34m(\u001b[0m\u001b[0mkey_mask\u001b[0m\u001b[0;34m,\u001b[0m \u001b[0mkey_hashcode\u001b[0m\u001b[0;34m,\u001b[0m \u001b[0mvalue\u001b[0m\u001b[0;34m,\u001b[0m \u001b[0mint\u001b[0m\u001b[0;34m(\u001b[0m\u001b[0;36m2\u001b[0m \u001b[0;34m**\u001b[0m \u001b[0mhashcode_len\u001b[0m\u001b[0;34m)\u001b[0m\u001b[0;34m)\u001b[0m\u001b[0;34m\u001b[0m\u001b[0;34m\u001b[0m\u001b[0m\n\u001b[0m\u001b[1;32m     28\u001b[0m \u001b[0;34m\u001b[0m\u001b[0m\n\u001b[1;32m     29\u001b[0m \u001b[0;32mdef\u001b[0m \u001b[0mlsh_query\u001b[0m\u001b[0;34m(\u001b[0m\u001b[0mquery_mask\u001b[0m\u001b[0;34m,\u001b[0m \u001b[0mquery_hashcode\u001b[0m\u001b[0;34m,\u001b[0m \u001b[0mhashtable\u001b[0m\u001b[0;34m)\u001b[0m\u001b[0;34m:\u001b[0m\u001b[0;34m\u001b[0m\u001b[0;34m\u001b[0m\u001b[0m\n",
      "\u001b[0;31mRuntimeError\u001b[0m: CUDA out of memory. Tried to allocate 6.00 GiB (GPU 0; 10.76 GiB total capacity; 3.85 GiB already allocated; 5.45 GiB free; 4.50 GiB reserved in total by PyTorch)"
     ]
    }
   ],
   "source": [
    "for b in [1, 2, 4, 8, 16, 32]:\n",
    "    B = b * 12\n",
    "    S = 4096\n",
    "    H = 128\n",
    "    D = 64\n",
    "    num_buckets = S // 2\n",
    "    hashcode_len = int(math.log2(num_buckets))\n",
    "    num_part = int(H / (D / hashcode_len))\n",
    "\n",
    "    Q = torch.randn(B, S, D).cuda().float()\n",
    "    K = torch.randn(B, S, D).cuda().float()\n",
    "    V = torch.randn(B, S, D).cuda().float()\n",
    "    mask = torch.ones(B, S, dtype = torch.int32).cuda()\n",
    "    Dmat = fast_hadamard_transform.generate_Dmat(B, D, H, hashcode_len, device = Q.device)\n",
    "\n",
    "    torch.cuda.synchronize()\n",
    "    t0 = time.time()\n",
    "    for _ in range(100):\n",
    "        Q_hash = fast_hadamard_transform.fast_hash(mask, Q, Dmat, H, hashcode_len)\n",
    "        K_hash = fast_hadamard_transform.fast_hash(mask, K, Dmat, H, hashcode_len)\n",
    "        hashtable = lsh_cumulation.lsh_cumulation(mask, K_hash, V, hashcode_len)\n",
    "        result = lsh_cumulation.lsh_query(mask, Q_hash, hashtable)\n",
    "    torch.cuda.synchronize()\n",
    "    t1 = time.time()\n",
    "\n",
    "    flops_hashcode = 2 * num_part * (3 * B * S * D + 3 * B * S * D * math.log2(D))\n",
    "    flops_hashtable = B * S * H * D\n",
    "    flops_query = B * S * H * D + B * S * D\n",
    "    flops = flops_hashcode + flops_hashtable + flops_query\n",
    "\n",
    "    latency = (t1 - t0) / 100\n",
    "    \n",
    "    print(round(latency * 1000, 4))"
   ]
  },
  {
   "cell_type": "code",
   "execution_count": 5,
   "id": "religious-extraction",
   "metadata": {},
   "outputs": [
    {
     "name": "stdout",
     "output_type": "stream",
     "text": [
      "46.0063\n",
      "92.0125\n",
      "184.0251\n",
      "368.0502\n",
      "736.1004\n",
      "1472.2007\n",
      "2944.4014\n",
      "5888.8028\n"
     ]
    }
   ],
   "source": [
    "for b in [1, 2, 4, 8, 16, 32, 64, 128]:\n",
    "    B = b * 12\n",
    "    S = 512\n",
    "    H = 16\n",
    "    D = 64\n",
    "    num_buckets = 256\n",
    "    hashcode_len = int(math.log2(num_buckets))\n",
    "    num_part = int(H / (D / hashcode_len))\n",
    "\n",
    "    flops_hashcode = 2 * num_part * (3 * B * S * D + 3 * B * S * D * math.log2(D))\n",
    "    flops_hashtable = B * S * H * D\n",
    "    flops_query = B * S * H * D + B * S * D\n",
    "    flops = flops_hashcode + flops_hashtable + flops_query\n",
    "\n",
    "    print(round(flops / 1000000, 4))"
   ]
  },
  {
   "cell_type": "code",
   "execution_count": 4,
   "id": "becoming-determination",
   "metadata": {},
   "outputs": [
    {
     "data": {
      "text/plain": [
       "0.011042825760408922"
      ]
     },
     "execution_count": 4,
     "metadata": {},
     "output_type": "execute_result"
    }
   ],
   "source": [
    "Q_hash = torch.randint(0, num_buckets, size = (B, S, H), dtype = torch.int32).cuda()\n",
    "K_hash = torch.randint(0, num_buckets, size = (B, S, H), dtype = torch.int32).cuda()\n",
    "V = torch.rand(B, S, D).cuda()\n",
    "Q_mask = torch.ones(B, S, dtype = torch.int32).cuda()\n",
    "K_mask = torch.ones(B, S, dtype = torch.int32).cuda()\n",
    "\n",
    "torch.cuda.synchronize()\n",
    "t0 = time.time()\n",
    "for _ in range(100):\n",
    "    \n",
    "torch.cuda.synchronize()\n",
    "t1 = time.time()\n",
    "\n",
    "\n",
    "latency = (t1 - t0) / 100\n",
    "(flops / latency) / (13.45 * (10 ** 12))"
   ]
  },
  {
   "cell_type": "code",
   "execution_count": 5,
   "id": "vertical-model",
   "metadata": {},
   "outputs": [
    {
     "data": {
      "text/plain": [
       "0.01388575504705759"
      ]
     },
     "execution_count": 5,
     "metadata": {},
     "output_type": "execute_result"
    }
   ],
   "source": [
    "torch.cuda.synchronize()\n",
    "t0 = time.time()\n",
    "for _ in range(100):\n",
    "    result = lsh_cumulation.lsh_query(Q_mask, Q_hash, hashtable)\n",
    "torch.cuda.synchronize()\n",
    "t1 = time.time()\n",
    "\n",
    "flops = B * S * H * D + B * S * D\n",
    "latency = (t1 - t0) / 100\n",
    "(flops / latency) / (13.45 * (10 ** 12))"
   ]
  },
  {
   "cell_type": "code",
   "execution_count": 6,
   "id": "sharing-metropolitan",
   "metadata": {},
   "outputs": [
    {
     "data": {
      "text/plain": [
       "0.0003793339733467389"
      ]
     },
     "execution_count": 6,
     "metadata": {},
     "output_type": "execute_result"
    }
   ],
   "source": [
    "Q0 = torch.rand(B, S, D).cuda()\n",
    "K0 = torch.rand(B, S, D).cuda()\n",
    "Q1 = torch.rand(B, S, D).cuda()\n",
    "K1 = torch.rand(B, S, D).cuda()\n",
    "Q_hash = torch.randint(0, num_buckets, size = (B, S, H), dtype = torch.int32).cuda()\n",
    "K_hash = torch.randint(0, num_buckets, size = (B, S, H), dtype = torch.int32).cuda()\n",
    "V = torch.rand(B, S, D).cuda()\n",
    "Q_mask = torch.ones(B, S, dtype = torch.int32).cuda()\n",
    "K_mask = torch.ones(B, S, dtype = torch.int32).cuda()\n",
    "\n",
    "Q1 = torch.nn.functional.normalize(Q1, p = 2, dim = -1)\n",
    "K1 = torch.nn.functional.normalize(K1, p = 2, dim = -1)\n",
    "\n",
    "K_sort_info, K_sorted_idxes = count_sort.count_sort(K_mask, K_hash, num_buckets)\n",
    "\n",
    "nnz = (1 / num_buckets) * 1024 * 1024\n",
    "\n",
    "torch.cuda.synchronize()\n",
    "t0 = time.time()\n",
    "for _ in range(100):\n",
    "    result = weighted_lsh_cumulation.weighted_lsh_cumulation_sorted_key(\n",
    "        Q_mask, Q_hash, K_sort_info, K_sorted_idxes, Q0, K0, Q1, K1, V, 1024, 8)\n",
    "torch.cuda.synchronize()\n",
    "t1 = time.time()\n",
    "\n",
    "flops = B * nnz * D + B * nnz * (D - 1) + B * nnz + B * nnz + B * nnz * D + B * nnz * D\n",
    "latency = (t1 - t0) / 100\n",
    "(flops / latency) / (13.45 * (10 ** 12))"
   ]
  },
  {
   "cell_type": "code",
   "execution_count": null,
   "id": "preceding-fraud",
   "metadata": {},
   "outputs": [],
   "source": []
  }
 ],
 "metadata": {
  "kernelspec": {
   "display_name": "Python 3",
   "language": "python",
   "name": "python3"
  },
  "language_info": {
   "codemirror_mode": {
    "name": "ipython",
    "version": 3
   },
   "file_extension": ".py",
   "mimetype": "text/x-python",
   "name": "python",
   "nbconvert_exporter": "python",
   "pygments_lexer": "ipython3",
   "version": "3.8.5"
  }
 },
 "nbformat": 4,
 "nbformat_minor": 5
}
